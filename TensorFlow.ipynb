{
  "nbformat": 4,
  "nbformat_minor": 0,
  "metadata": {
    "colab": {
      "provenance": []
    },
    "kernelspec": {
      "name": "python3",
      "display_name": "Python 3"
    },
    "language_info": {
      "name": "python"
    }
  },
  "cells": [
    {
      "cell_type": "code",
      "execution_count": 2,
      "metadata": {
        "colab": {
          "base_uri": "https://localhost:8080/"
        },
        "id": "hDanN20FfMd3",
        "outputId": "9d04b855-8b50-4b2f-9d6b-0cd30c6d8902"
      },
      "outputs": [
        {
          "output_type": "stream",
          "name": "stdout",
          "text": [
            "2.15.0\n"
          ]
        }
      ],
      "source": [
        "import tensorflow as tf\n",
        "print(tf.__version__)"
      ]
    },
    {
      "cell_type": "code",
      "source": [
        "minst = tf.keras.datasets.mnist #collection of hand written digits dataset\n",
        "\n",
        "(x_train, y_train), (x_test, y_test) = minst.load_data()\n",
        "x_train, x_test = x_train / 255.0, x_test / 255.0  #Normalize the values train and test datasets\n",
        "\n",
        "#pixel values define in range 0 to 255 , 0 = black 1=white. Scale 0 to 1"
      ],
      "metadata": {
        "id": "6-n_1vTkfpaa",
        "colab": {
          "base_uri": "https://localhost:8080/"
        },
        "outputId": "41e2a97f-b1a0-41cb-9cc5-babcdaeb1aa8"
      },
      "execution_count": 3,
      "outputs": [
        {
          "output_type": "stream",
          "name": "stdout",
          "text": [
            "Downloading data from https://storage.googleapis.com/tensorflow/tf-keras-datasets/mnist.npz\n",
            "11490434/11490434 [==============================] - 0s 0us/step\n"
          ]
        }
      ]
    },
    {
      "cell_type": "code",
      "source": [
        "#train model\n",
        "model = tf.keras.Sequential([\n",
        "    tf.keras.layers.Flatten(input_shape=(28, 28)), #flatning the input, convrets array 2d(28*28) to 1d\n",
        "    tf.keras.layers.Dense(128, activation='relu'), #connect every neurone in previous layer\n",
        "    tf.keras.layers.Dropout(0.2), #to avoid overfitting , 0.2 means 20% fron input unit , which  0 while update unit\n",
        "    tf.keras.layers.Dense(10) #activate softmax func to train to obtain probility\n",
        "])"
      ],
      "metadata": {
        "id": "yY6VxH0oyfuz"
      },
      "execution_count": 4,
      "outputs": []
    },
    {
      "cell_type": "code",
      "source": [
        "#define loss func\n",
        "loss_fn = tf.keras.losses.SparseCategoricalCrossentropy(from_logits=True)\n",
        "#return scaler for its loss logic examles\n"
      ],
      "metadata": {
        "id": "hEGJDZ6y5GhZ"
      },
      "execution_count": 5,
      "outputs": []
    },
    {
      "cell_type": "code",
      "source": [
        "loss_fn"
      ],
      "metadata": {
        "colab": {
          "base_uri": "https://localhost:8080/"
        },
        "id": "p0rJLuhv9Hlv",
        "outputId": "29ca161b-10a8-44c4-8584-13ecfcdfb8ed"
      },
      "execution_count": 7,
      "outputs": [
        {
          "output_type": "execute_result",
          "data": {
            "text/plain": [
              "<keras.src.losses.SparseCategoricalCrossentropy at 0x7fef89bde920>"
            ]
          },
          "metadata": {},
          "execution_count": 7
        }
      ]
    },
    {
      "cell_type": "code",
      "source": [
        "#loss_fn(y_train[:1], predictions).numpy() #calculate loss of first line of the example actual sample"
      ],
      "metadata": {
        "id": "0dtkOB0i67Hi"
      },
      "execution_count": 1,
      "outputs": []
    },
    {
      "cell_type": "code",
      "source": [
        "model.compile(optimizer='adam', #optimization algo\n",
        "              loss=loss_fn, #loss function\n",
        "              metrics=['accuracy']) #metrics to monitor during training and testing"
      ],
      "metadata": {
        "id": "YiWvyQaG6Gbf"
      },
      "execution_count": 8,
      "outputs": []
    },
    {
      "cell_type": "code",
      "source": [
        "model.fit(x_train, y_train, epochs=5)"
      ],
      "metadata": {
        "colab": {
          "base_uri": "https://localhost:8080/"
        },
        "id": "1YADiPLZ91dv",
        "outputId": "5a566791-8430-4ab8-87a4-f5793fc6209f"
      },
      "execution_count": 9,
      "outputs": [
        {
          "output_type": "stream",
          "name": "stdout",
          "text": [
            "Epoch 1/5\n",
            "1875/1875 [==============================] - 11s 5ms/step - loss: 0.2980 - accuracy: 0.9118\n",
            "Epoch 2/5\n",
            "1875/1875 [==============================] - 8s 4ms/step - loss: 0.1421 - accuracy: 0.9570\n",
            "Epoch 3/5\n",
            "1875/1875 [==============================] - 6s 3ms/step - loss: 0.1069 - accuracy: 0.9670\n",
            "Epoch 4/5\n",
            "1875/1875 [==============================] - 8s 4ms/step - loss: 0.0872 - accuracy: 0.9728\n",
            "Epoch 5/5\n",
            "1875/1875 [==============================] - 6s 3ms/step - loss: 0.0750 - accuracy: 0.9768\n"
          ]
        },
        {
          "output_type": "execute_result",
          "data": {
            "text/plain": [
              "<keras.src.callbacks.History at 0x7fef89bde800>"
            ]
          },
          "metadata": {},
          "execution_count": 9
        }
      ]
    },
    {
      "cell_type": "code",
      "source": [
        "model.evaluate(x_test,  y_test, verbose=2)"
      ],
      "metadata": {
        "colab": {
          "base_uri": "https://localhost:8080/"
        },
        "id": "yuOybASe-Equ",
        "outputId": "4a707d1a-60c1-40a7-f814-88f73a940ffa"
      },
      "execution_count": 10,
      "outputs": [
        {
          "output_type": "stream",
          "name": "stdout",
          "text": [
            "313/313 - 1s - loss: 0.0744 - accuracy: 0.9780 - 577ms/epoch - 2ms/step\n"
          ]
        },
        {
          "output_type": "execute_result",
          "data": {
            "text/plain": [
              "[0.07435943931341171, 0.9779999852180481]"
            ]
          },
          "metadata": {},
          "execution_count": 10
        }
      ]
    }
  ]
}